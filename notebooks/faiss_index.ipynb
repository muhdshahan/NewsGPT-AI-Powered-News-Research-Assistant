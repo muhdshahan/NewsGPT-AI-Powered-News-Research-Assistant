{
 "cells": [
  {
   "cell_type": "code",
   "execution_count": 1,
   "id": "93ea7640",
   "metadata": {},
   "outputs": [
    {
     "name": "stdout",
     "output_type": "stream",
     "text": [
      "Requirement already satisfied: faiss-cpu in c:\\users\\shaha\\appdata\\local\\programs\\python\\python310\\lib\\site-packages (1.11.0)\n",
      "Requirement already satisfied: numpy<3.0,>=1.25.0 in c:\\users\\shaha\\appdata\\local\\programs\\python\\python310\\lib\\site-packages (from faiss-cpu) (2.2.5)\n",
      "Requirement already satisfied: packaging in c:\\users\\shaha\\appdata\\local\\programs\\python\\python310\\lib\\site-packages (from faiss-cpu) (24.2)\n",
      "Requirement already satisfied: sentence-transformers in c:\\users\\shaha\\appdata\\local\\programs\\python\\python310\\lib\\site-packages (4.1.0)\n",
      "Requirement already satisfied: transformers<5.0.0,>=4.41.0 in c:\\users\\shaha\\appdata\\local\\programs\\python\\python310\\lib\\site-packages (from sentence-transformers) (4.52.4)\n",
      "Requirement already satisfied: tqdm in c:\\users\\shaha\\appdata\\local\\programs\\python\\python310\\lib\\site-packages (from sentence-transformers) (4.67.1)\n",
      "Requirement already satisfied: torch>=1.11.0 in c:\\users\\shaha\\appdata\\local\\programs\\python\\python310\\lib\\site-packages (from sentence-transformers) (2.7.1)\n",
      "Requirement already satisfied: scikit-learn in c:\\users\\shaha\\appdata\\local\\programs\\python\\python310\\lib\\site-packages (from sentence-transformers) (1.6.1)\n",
      "Requirement already satisfied: scipy in c:\\users\\shaha\\appdata\\local\\programs\\python\\python310\\lib\\site-packages (from sentence-transformers) (1.15.2)\n",
      "Requirement already satisfied: huggingface-hub>=0.20.0 in c:\\users\\shaha\\appdata\\local\\programs\\python\\python310\\lib\\site-packages (from sentence-transformers) (0.30.2)\n",
      "Requirement already satisfied: Pillow in c:\\users\\shaha\\appdata\\local\\programs\\python\\python310\\lib\\site-packages (from sentence-transformers) (11.2.1)\n",
      "Requirement already satisfied: typing_extensions>=4.5.0 in c:\\users\\shaha\\appdata\\roaming\\python\\python310\\site-packages (from sentence-transformers) (4.13.2)\n",
      "Requirement already satisfied: filelock in c:\\users\\shaha\\appdata\\local\\programs\\python\\python310\\lib\\site-packages (from transformers<5.0.0,>=4.41.0->sentence-transformers) (3.18.0)\n",
      "Requirement already satisfied: numpy>=1.17 in c:\\users\\shaha\\appdata\\local\\programs\\python\\python310\\lib\\site-packages (from transformers<5.0.0,>=4.41.0->sentence-transformers) (2.2.5)\n",
      "Requirement already satisfied: packaging>=20.0 in c:\\users\\shaha\\appdata\\local\\programs\\python\\python310\\lib\\site-packages (from transformers<5.0.0,>=4.41.0->sentence-transformers) (24.2)\n",
      "Requirement already satisfied: pyyaml>=5.1 in c:\\users\\shaha\\appdata\\local\\programs\\python\\python310\\lib\\site-packages (from transformers<5.0.0,>=4.41.0->sentence-transformers) (6.0.2)\n",
      "Requirement already satisfied: regex!=2019.12.17 in c:\\users\\shaha\\appdata\\local\\programs\\python\\python310\\lib\\site-packages (from transformers<5.0.0,>=4.41.0->sentence-transformers) (2024.11.6)\n",
      "Requirement already satisfied: requests in c:\\users\\shaha\\appdata\\local\\programs\\python\\python310\\lib\\site-packages (from transformers<5.0.0,>=4.41.0->sentence-transformers) (2.32.3)\n",
      "Requirement already satisfied: tokenizers<0.22,>=0.21 in c:\\users\\shaha\\appdata\\local\\programs\\python\\python310\\lib\\site-packages (from transformers<5.0.0,>=4.41.0->sentence-transformers) (0.21.1)\n",
      "Requirement already satisfied: safetensors>=0.4.3 in c:\\users\\shaha\\appdata\\local\\programs\\python\\python310\\lib\\site-packages (from transformers<5.0.0,>=4.41.0->sentence-transformers) (0.5.3)\n",
      "Requirement already satisfied: fsspec>=2023.5.0 in c:\\users\\shaha\\appdata\\local\\programs\\python\\python310\\lib\\site-packages (from huggingface-hub>=0.20.0->sentence-transformers) (2025.3.2)\n",
      "Requirement already satisfied: sympy>=1.13.3 in c:\\users\\shaha\\appdata\\local\\programs\\python\\python310\\lib\\site-packages (from torch>=1.11.0->sentence-transformers) (1.14.0)\n",
      "Requirement already satisfied: networkx in c:\\users\\shaha\\appdata\\local\\programs\\python\\python310\\lib\\site-packages (from torch>=1.11.0->sentence-transformers) (3.4.2)\n",
      "Requirement already satisfied: jinja2 in c:\\users\\shaha\\appdata\\local\\programs\\python\\python310\\lib\\site-packages (from torch>=1.11.0->sentence-transformers) (3.1.6)\n",
      "Requirement already satisfied: mpmath<1.4,>=1.1.0 in c:\\users\\shaha\\appdata\\local\\programs\\python\\python310\\lib\\site-packages (from sympy>=1.13.3->torch>=1.11.0->sentence-transformers) (1.3.0)\n",
      "Requirement already satisfied: colorama in c:\\users\\shaha\\appdata\\roaming\\python\\python310\\site-packages (from tqdm->sentence-transformers) (0.4.6)\n",
      "Requirement already satisfied: MarkupSafe>=2.0 in c:\\users\\shaha\\appdata\\local\\programs\\python\\python310\\lib\\site-packages (from jinja2->torch>=1.11.0->sentence-transformers) (3.0.2)\n",
      "Requirement already satisfied: charset-normalizer<4,>=2 in c:\\users\\shaha\\appdata\\local\\programs\\python\\python310\\lib\\site-packages (from requests->transformers<5.0.0,>=4.41.0->sentence-transformers) (3.4.1)\n",
      "Requirement already satisfied: idna<4,>=2.5 in c:\\users\\shaha\\appdata\\local\\programs\\python\\python310\\lib\\site-packages (from requests->transformers<5.0.0,>=4.41.0->sentence-transformers) (3.10)\n",
      "Requirement already satisfied: urllib3<3,>=1.21.1 in c:\\users\\shaha\\appdata\\local\\programs\\python\\python310\\lib\\site-packages (from requests->transformers<5.0.0,>=4.41.0->sentence-transformers) (2.4.0)\n",
      "Requirement already satisfied: certifi>=2017.4.17 in c:\\users\\shaha\\appdata\\local\\programs\\python\\python310\\lib\\site-packages (from requests->transformers<5.0.0,>=4.41.0->sentence-transformers) (2025.4.26)\n",
      "Requirement already satisfied: joblib>=1.2.0 in c:\\users\\shaha\\appdata\\local\\programs\\python\\python310\\lib\\site-packages (from scikit-learn->sentence-transformers) (1.5.0)\n",
      "Requirement already satisfied: threadpoolctl>=3.1.0 in c:\\users\\shaha\\appdata\\local\\programs\\python\\python310\\lib\\site-packages (from scikit-learn->sentence-transformers) (3.6.0)\n"
     ]
    }
   ],
   "source": [
    "# Install packages\n",
    "!pip install faiss-cpu\n",
    "!pip install sentence-transformers"
   ]
  },
  {
   "cell_type": "code",
   "execution_count": 2,
   "id": "c541b1ed",
   "metadata": {},
   "outputs": [],
   "source": [
    "import pandas as pd\n",
    "\n",
    "pd.set_option('display.max_colwidth', 100)"
   ]
  },
  {
   "cell_type": "code",
   "execution_count": 3,
   "id": "35094fdf",
   "metadata": {},
   "outputs": [
    {
     "data": {
      "text/plain": [
       "(8, 2)"
      ]
     },
     "execution_count": 3,
     "metadata": {},
     "output_type": "execute_result"
    }
   ],
   "source": [
    "df = pd.read_csv('sample_text.csv')\n",
    "df.shape"
   ]
  },
  {
   "cell_type": "code",
   "execution_count": 4,
   "id": "12500f13",
   "metadata": {},
   "outputs": [
    {
     "data": {
      "text/html": [
       "<div>\n",
       "<style scoped>\n",
       "    .dataframe tbody tr th:only-of-type {\n",
       "        vertical-align: middle;\n",
       "    }\n",
       "\n",
       "    .dataframe tbody tr th {\n",
       "        vertical-align: top;\n",
       "    }\n",
       "\n",
       "    .dataframe thead th {\n",
       "        text-align: right;\n",
       "    }\n",
       "</style>\n",
       "<table border=\"1\" class=\"dataframe\">\n",
       "  <thead>\n",
       "    <tr style=\"text-align: right;\">\n",
       "      <th></th>\n",
       "      <th>text</th>\n",
       "      <th>category</th>\n",
       "    </tr>\n",
       "  </thead>\n",
       "  <tbody>\n",
       "    <tr>\n",
       "      <th>0</th>\n",
       "      <td>Meditation and yoga can improve mental health</td>\n",
       "      <td>Health</td>\n",
       "    </tr>\n",
       "    <tr>\n",
       "      <th>1</th>\n",
       "      <td>Fruits, whole grains and vegetables helps control blood pressure</td>\n",
       "      <td>Health</td>\n",
       "    </tr>\n",
       "    <tr>\n",
       "      <th>2</th>\n",
       "      <td>These are the latest fashion trends for this week</td>\n",
       "      <td>Fashion</td>\n",
       "    </tr>\n",
       "    <tr>\n",
       "      <th>3</th>\n",
       "      <td>Vibrant color jeans for male are becoming a trend</td>\n",
       "      <td>Fashion</td>\n",
       "    </tr>\n",
       "    <tr>\n",
       "      <th>4</th>\n",
       "      <td>The concert starts at 7 PM tonight</td>\n",
       "      <td>Event</td>\n",
       "    </tr>\n",
       "    <tr>\n",
       "      <th>5</th>\n",
       "      <td>Navaratri dandiya program at Expo center in Mumbai this october</td>\n",
       "      <td>Event</td>\n",
       "    </tr>\n",
       "    <tr>\n",
       "      <th>6</th>\n",
       "      <td>Exciting vacation destinations for your next trip</td>\n",
       "      <td>Travel</td>\n",
       "    </tr>\n",
       "    <tr>\n",
       "      <th>7</th>\n",
       "      <td>Maldives and Srilanka are gaining popularity in terms of low budget vacation places</td>\n",
       "      <td>Travel</td>\n",
       "    </tr>\n",
       "  </tbody>\n",
       "</table>\n",
       "</div>"
      ],
      "text/plain": [
       "                                                                                  text  \\\n",
       "0                                        Meditation and yoga can improve mental health   \n",
       "1                     Fruits, whole grains and vegetables helps control blood pressure   \n",
       "2                                    These are the latest fashion trends for this week   \n",
       "3                                    Vibrant color jeans for male are becoming a trend   \n",
       "4                                                   The concert starts at 7 PM tonight   \n",
       "5                      Navaratri dandiya program at Expo center in Mumbai this october   \n",
       "6                                    Exciting vacation destinations for your next trip   \n",
       "7  Maldives and Srilanka are gaining popularity in terms of low budget vacation places   \n",
       "\n",
       "  category  \n",
       "0   Health  \n",
       "1   Health  \n",
       "2  Fashion  \n",
       "3  Fashion  \n",
       "4    Event  \n",
       "5    Event  \n",
       "6   Travel  \n",
       "7   Travel  "
      ]
     },
     "execution_count": 4,
     "metadata": {},
     "output_type": "execute_result"
    }
   ],
   "source": [
    "df"
   ]
  },
  {
   "cell_type": "code",
   "execution_count": 5,
   "id": "21b5a36a",
   "metadata": {},
   "outputs": [
    {
     "name": "stderr",
     "output_type": "stream",
     "text": [
      "C:\\Users\\shaha\\AppData\\Roaming\\Python\\Python312\\site-packages\\tqdm\\auto.py:21: TqdmWarning: IProgress not found. Please update jupyter and ipywidgets. See https://ipywidgets.readthedocs.io/en/stable/user_install.html\n",
      "  from .autonotebook import tqdm as notebook_tqdm\n"
     ]
    },
    {
     "data": {
      "text/plain": [
       "(8, 768)"
      ]
     },
     "execution_count": 5,
     "metadata": {},
     "output_type": "execute_result"
    }
   ],
   "source": [
    "from sentence_transformers import SentenceTransformer\n",
    "\n",
    "encoder = SentenceTransformer(\"all-mpnet-base-v2\")\n",
    "vectors = encoder.encode(df.text)\n",
    "vectors.shape"
   ]
  },
  {
   "cell_type": "code",
   "execution_count": 6,
   "id": "24b20d88",
   "metadata": {},
   "outputs": [
    {
     "data": {
      "text/plain": [
       "array([[-0.00247395,  0.03626721, -0.05290459, ..., -0.09152356,\n",
       "        -0.03970002, -0.04330488],\n",
       "       [-0.03357267,  0.00980517, -0.03250129, ..., -0.05165467,\n",
       "         0.02245886, -0.03156182],\n",
       "       [-0.01865323, -0.04051314, -0.01235387, ...,  0.00610585,\n",
       "        -0.07179647,  0.02773853],\n",
       "       ...,\n",
       "       [-0.00066458,  0.04252125, -0.05645508, ...,  0.01315471,\n",
       "        -0.03183568, -0.04357664],\n",
       "       [-0.03317154,  0.03252455, -0.02484838, ...,  0.01174421,\n",
       "         0.05747123,  0.00571021],\n",
       "       [-0.00166393,  0.00413829, -0.04597083, ...,  0.02008528,\n",
       "         0.05656242, -0.00161596]], dtype=float32)"
      ]
     },
     "execution_count": 6,
     "metadata": {},
     "output_type": "execute_result"
    }
   ],
   "source": [
    "vectors"
   ]
  },
  {
   "cell_type": "code",
   "execution_count": 7,
   "id": "22505b96",
   "metadata": {},
   "outputs": [
    {
     "data": {
      "text/plain": [
       "768"
      ]
     },
     "execution_count": 7,
     "metadata": {},
     "output_type": "execute_result"
    }
   ],
   "source": [
    "dim = vectors.shape[1]\n",
    "dim"
   ]
  },
  {
   "cell_type": "code",
   "execution_count": 8,
   "id": "f35911c7",
   "metadata": {},
   "outputs": [
    {
     "data": {
      "text/plain": [
       "<faiss.swigfaiss_avx2.IndexFlatL2; proxy of <Swig Object of type 'faiss::IndexFlatL2 *' at 0x0000011E46641EF0> >"
      ]
     },
     "execution_count": 8,
     "metadata": {},
     "output_type": "execute_result"
    }
   ],
   "source": [
    "# this is index using Euclidean Distance\n",
    "import faiss\n",
    "\n",
    "index = faiss.IndexFlatL2(dim)\n",
    "index"
   ]
  },
  {
   "cell_type": "code",
   "execution_count": 9,
   "id": "ec3be5ec",
   "metadata": {},
   "outputs": [],
   "source": [
    "index.add(vectors)"
   ]
  },
  {
   "cell_type": "code",
   "execution_count": 10,
   "id": "325e7ef1",
   "metadata": {},
   "outputs": [
    {
     "data": {
      "text/plain": [
       "(768,)"
      ]
     },
     "execution_count": 10,
     "metadata": {},
     "output_type": "execute_result"
    }
   ],
   "source": [
    "search_query = \"I want to buy a polo t-shirt\"\n",
    "\n",
    "vec = encoder.encode(search_query)\n",
    "vec.shape"
   ]
  },
  {
   "cell_type": "code",
   "execution_count": 11,
   "id": "1d8e3f9d",
   "metadata": {},
   "outputs": [
    {
     "data": {
      "text/plain": [
       "array([ 1.03882737e-02,  2.78686322e-02, -1.18618747e-02,  1.81327257e-02,\n",
       "        1.21983129e-03, -1.42995678e-02,  1.96229350e-02,  2.07198095e-02,\n",
       "       -2.23660525e-02,  4.75626774e-02,  1.77976117e-02, -8.00333917e-03,\n",
       "        2.53419485e-02,  5.26149310e-02,  8.44939332e-03, -1.63944382e-02,\n",
       "        1.02661774e-02, -2.74856407e-02,  8.37067366e-02, -1.52885346e-02,\n",
       "        1.67682767e-02, -3.97140812e-03, -2.74348501e-02,  5.02091646e-02,\n",
       "       -8.36523063e-03, -4.74075489e-02,  2.36915741e-02, -1.01186512e-02,\n",
       "       -2.82840487e-02,  7.94264767e-03,  4.21435833e-02, -4.19375300e-03,\n",
       "       -1.91232339e-02, -3.12785394e-02,  1.24685050e-06, -1.04428194e-02,\n",
       "       -2.19971202e-02, -8.66928175e-02, -1.88498793e-03, -2.54772324e-02,\n",
       "       -9.72972158e-03,  7.93310329e-02, -3.55963409e-02, -3.05369555e-04,\n",
       "       -1.12392055e-02, -3.88932340e-02,  5.49313948e-02,  1.35207996e-01,\n",
       "       -8.19147378e-02,  1.18785035e-02, -9.01844818e-03,  1.92544367e-02,\n",
       "       -2.82723419e-02, -3.29266712e-02, -2.20106710e-02, -4.29835469e-02,\n",
       "        3.70104425e-02, -4.80649099e-02,  9.49254632e-03,  3.51585895e-02,\n",
       "        4.88772579e-02, -3.28933373e-02, -1.24120302e-02, -1.64292809e-02,\n",
       "        3.93721387e-02,  2.69109700e-02,  6.15458190e-02, -4.14123433e-03,\n",
       "        1.75675359e-02,  1.53993377e-02,  9.60062165e-03, -5.69598749e-04,\n",
       "       -4.83582988e-02,  4.25832011e-02,  1.10985646e-02, -4.66182530e-02,\n",
       "       -2.10591312e-03, -5.81461340e-02,  1.40412785e-02,  1.00883441e-02,\n",
       "       -2.44589988e-02,  1.42714446e-02, -2.10582074e-02,  7.38854483e-02,\n",
       "       -2.23949328e-02,  1.38752963e-02, -1.33591192e-03,  9.21317004e-03,\n",
       "       -2.84222551e-02, -4.04203963e-03, -1.71393417e-02, -8.46520811e-03,\n",
       "       -2.83984058e-02, -3.69299948e-02, -9.47201252e-02, -3.26580293e-02,\n",
       "        2.60049496e-02,  1.31179551e-02,  1.51670659e-02, -2.12381617e-03,\n",
       "        1.48178432e-02,  1.37816910e-02,  1.25303902e-02, -5.01473760e-03,\n",
       "        3.56063284e-02,  5.93453497e-02, -5.03397323e-02, -9.55991074e-03,\n",
       "       -7.23668858e-02,  9.45846271e-03,  1.54202795e-02, -7.03749340e-03,\n",
       "       -3.10014561e-02, -8.86361301e-03, -2.98000537e-02, -8.84007812e-02,\n",
       "       -2.25059073e-02, -3.25824395e-02,  4.78070229e-02,  2.14030198e-03,\n",
       "        1.37758779e-03, -1.25065809e-02, -1.15712881e-02,  2.34021768e-02,\n",
       "        3.43839475e-03,  2.69362908e-02, -6.23306930e-02, -5.29253203e-03,\n",
       "        1.73163670e-03,  3.20439376e-02,  2.13101550e-04, -1.54123409e-02,\n",
       "        5.08342832e-02, -4.52312231e-02, -1.67428516e-02, -3.47918570e-02,\n",
       "       -4.16715294e-02, -2.34929454e-02,  2.40793405e-03, -2.15250608e-02,\n",
       "        3.07011232e-03,  2.54971217e-02,  3.60133015e-02,  2.68477891e-02,\n",
       "       -4.22385745e-02, -2.45388635e-02,  3.93798128e-02,  6.31314283e-03,\n",
       "        2.03843564e-02, -2.22934335e-02, -7.87319895e-03, -1.47400908e-02,\n",
       "        4.87235747e-02, -2.55933572e-02, -1.08920950e-02, -3.37022766e-02,\n",
       "        4.69094366e-02,  1.95821505e-02,  4.13409853e-03,  2.72842795e-02,\n",
       "        4.72961576e-04,  2.55070515e-02, -5.26176505e-02,  3.57674696e-02,\n",
       "       -5.46481879e-03, -3.90752219e-02, -4.51455936e-02, -1.37631502e-02,\n",
       "        5.50720505e-02,  3.80344130e-02, -4.58984524e-02,  4.83393995e-03,\n",
       "       -2.92574354e-02, -4.76555852e-03,  9.17752981e-02, -9.70400348e-02,\n",
       "        1.05631784e-01, -5.64410686e-02, -6.33300841e-02,  3.45335677e-02,\n",
       "       -5.77132627e-02, -1.21777281e-01,  9.45341773e-03,  2.02731304e-02,\n",
       "        2.63031758e-02,  3.96901742e-03, -3.88276353e-02, -1.57009196e-02,\n",
       "       -3.47952135e-02, -3.07988394e-02,  3.24620456e-02, -4.84479442e-02,\n",
       "        4.39479854e-03, -1.72206666e-02,  1.15605202e-04, -3.72782126e-02,\n",
       "       -5.17302454e-02, -1.91914644e-02, -3.10722534e-02,  4.77236928e-03,\n",
       "       -5.49006201e-02, -1.40048852e-02,  2.99301520e-02,  9.23176780e-02,\n",
       "       -2.96304598e-02,  2.45515499e-02,  3.50713506e-02, -5.64087182e-03,\n",
       "        1.57489087e-02,  2.08431613e-02,  5.11531755e-02,  7.25735724e-03,\n",
       "        4.40719165e-03, -2.58071981e-02,  4.99892049e-03, -1.47750147e-03,\n",
       "       -4.42323554e-03,  4.48388010e-02,  7.79227763e-02,  1.65747814e-02,\n",
       "       -3.80822606e-02,  3.76827829e-02,  1.02415666e-01, -1.61059089e-02,\n",
       "        7.32476413e-02, -1.11488150e-02,  3.81628983e-02,  2.02278644e-02,\n",
       "       -1.23597039e-02,  2.38338616e-02, -2.99291797e-02, -7.08031747e-03,\n",
       "        1.23009896e-02, -6.69542374e-03, -6.65793344e-02,  6.94696531e-02,\n",
       "        1.02031585e-02, -2.23912932e-02, -1.79656520e-02, -3.10913902e-02,\n",
       "       -3.04420013e-02, -2.43375041e-02,  2.62913946e-02, -1.44890789e-02,\n",
       "       -3.44526730e-02,  3.69895436e-03,  2.34961826e-02, -2.20465567e-02,\n",
       "       -6.40620366e-02, -3.29653174e-02, -1.13152536e-02,  4.46261428e-02,\n",
       "        2.82178633e-02, -1.32326763e-02, -2.48316471e-02, -4.16193642e-02,\n",
       "       -3.17104533e-02, -2.90313573e-03, -2.58374307e-02, -2.38407645e-02,\n",
       "        4.09953035e-02, -3.72038521e-02,  3.80427130e-02,  2.60184798e-02,\n",
       "        3.78452279e-02, -1.22930091e-02, -1.78747214e-02,  2.22685225e-02,\n",
       "       -1.39293652e-02,  3.33372480e-03, -1.01043181e-02, -9.42679048e-02,\n",
       "        2.93328166e-02, -2.11533885e-02, -8.28085653e-03,  9.39181820e-03,\n",
       "        7.01194778e-02, -2.47648153e-02, -7.45412055e-03,  1.81595106e-02,\n",
       "        2.10113823e-02,  5.30432500e-02, -1.83114391e-02,  2.45678145e-02,\n",
       "        1.81326140e-02, -1.36736650e-02, -2.25673383e-03,  2.27259267e-02,\n",
       "       -1.32561401e-02,  5.31734712e-02,  2.84623657e-03, -1.26052517e-02,\n",
       "        5.37055358e-02, -2.62217857e-02,  6.28262013e-02, -3.38792652e-02,\n",
       "        1.24346288e-02,  3.83222941e-03,  2.31522676e-02, -7.25013614e-02,\n",
       "       -4.14394774e-03, -4.29395698e-02, -9.25686955e-03, -1.02920160e-02,\n",
       "       -2.94400137e-02, -1.51161635e-02,  1.03488797e-02, -8.83046165e-03,\n",
       "        7.79082673e-03,  6.15879856e-02, -2.56217904e-02,  2.67890412e-02,\n",
       "       -3.48655395e-02, -3.35104056e-02,  4.58869115e-02,  2.87142564e-02,\n",
       "       -1.73843484e-02,  9.46802348e-02, -2.42618285e-02,  2.83706635e-02,\n",
       "        5.47284400e-03, -3.05396635e-02, -2.04882417e-02,  1.14951227e-02,\n",
       "       -2.06156857e-02, -4.73046936e-02, -5.66265313e-04,  2.54014209e-02,\n",
       "       -4.44825925e-02, -3.05528939e-02, -2.27482188e-02,  5.34623954e-03,\n",
       "       -1.77380163e-02,  8.93085264e-03,  6.29967498e-03, -4.71266769e-02,\n",
       "        9.71082784e-03, -1.98281351e-02, -1.95309035e-02,  2.61490289e-02,\n",
       "        2.61223363e-03, -2.84732673e-02, -8.45036842e-03, -6.73168302e-02,\n",
       "       -8.53152201e-02, -3.01742591e-02,  3.68126817e-02,  2.59252675e-02,\n",
       "       -6.74629956e-02, -5.72894178e-02, -1.90711077e-02, -2.98832785e-02,\n",
       "       -1.49018494e-02, -6.44185720e-03, -1.42151974e-02,  3.73985805e-02,\n",
       "        1.12888077e-03,  2.28629690e-02, -4.47168238e-02,  2.30516493e-02,\n",
       "        6.28931739e-04,  4.42759097e-02,  2.46649925e-02,  3.51332575e-02,\n",
       "       -3.61626185e-02, -4.75540049e-02,  1.82497762e-02,  3.07629593e-02,\n",
       "        1.00456062e-03, -1.84898712e-02, -2.19539397e-05,  7.50035793e-02,\n",
       "        3.62004526e-02,  6.58764839e-02, -1.86647344e-02,  4.20116931e-02,\n",
       "       -2.29519256e-03,  6.42548054e-02,  5.11614159e-02, -1.55825559e-02,\n",
       "       -7.13935297e-04,  3.42612453e-02, -6.07559644e-03,  2.43100207e-02,\n",
       "       -1.24313068e-02, -4.36682813e-02,  2.47560181e-02, -3.65800112e-02,\n",
       "        2.03334093e-02, -3.50793190e-02,  1.50017301e-02,  7.63921589e-02,\n",
       "        6.04430996e-02,  6.65944144e-02,  3.30559746e-03,  3.46694291e-02,\n",
       "       -1.60530349e-03, -2.37293169e-02,  9.55966488e-03, -8.56767409e-03,\n",
       "       -1.43413786e-02,  9.41571221e-02,  3.45746540e-02,  7.35701025e-02,\n",
       "        2.54632495e-02, -3.96389551e-02,  2.52090823e-02,  7.53591806e-02,\n",
       "       -3.82415578e-02, -3.73829007e-02, -5.41513413e-02,  2.40688957e-02,\n",
       "       -3.08086798e-02, -6.20016549e-03, -7.64318882e-03, -3.59188281e-02,\n",
       "        1.13591657e-03, -4.66335379e-03,  2.37279981e-02, -4.54728715e-02,\n",
       "       -1.95234292e-03,  1.30089670e-02, -4.03874703e-02,  3.14237513e-02,\n",
       "        3.25081497e-02,  2.98243836e-02, -7.06265564e-04, -8.04493055e-02,\n",
       "       -1.45465685e-02, -1.17486464e-02, -3.25348116e-02,  3.16704363e-02,\n",
       "       -4.22670357e-02,  6.71451017e-02, -1.01962581e-01, -3.84004451e-02,\n",
       "       -1.90569423e-02,  5.59220575e-02,  7.67454132e-03,  5.18109724e-02,\n",
       "        1.68128759e-02, -1.31116426e-02,  2.82032811e-03,  1.55520451e-03,\n",
       "       -5.03716408e-04, -3.61106060e-02, -6.84430264e-03,  1.76924281e-02,\n",
       "       -2.98449900e-02, -4.57745343e-02,  1.10833840e-02, -1.51629588e-02,\n",
       "        3.66879208e-03,  8.08090344e-02, -1.80434622e-02, -1.02002698e-03,\n",
       "       -4.84673597e-04,  3.22403088e-02, -1.65944602e-02,  1.84555212e-03,\n",
       "        5.07567376e-02,  1.58889387e-02, -6.26497790e-02, -1.95618384e-02,\n",
       "        4.34029587e-02, -5.68292923e-02,  1.05988361e-01, -4.80109118e-02,\n",
       "        1.00578070e-02,  2.19856445e-02, -3.14385407e-02,  1.16583500e-02,\n",
       "        3.97340655e-02, -1.13186948e-02,  5.83116710e-02,  2.77369888e-03,\n",
       "        6.33228794e-02,  4.29549105e-02,  2.16283090e-02,  3.85456048e-02,\n",
       "       -2.44158525e-02,  1.34006534e-02,  2.94844597e-03,  7.02531915e-03,\n",
       "       -1.87546648e-02,  4.76556756e-02,  6.15999848e-02,  1.85416210e-02,\n",
       "       -1.38640571e-02, -4.43654135e-02, -2.19828710e-02,  1.19858244e-02,\n",
       "       -3.77185121e-02, -6.42945096e-02, -2.67556068e-02,  5.12968525e-02,\n",
       "        2.78437790e-02, -6.28402084e-02, -3.17040533e-02,  2.21165530e-02,\n",
       "       -1.41522726e-02, -6.07152842e-03,  7.16667771e-02,  1.14130192e-02,\n",
       "        3.74975172e-03, -6.88136294e-02,  4.47597429e-02, -3.12533416e-02,\n",
       "        1.41535802e-02, -3.08248624e-02, -7.57724629e-04, -5.60957007e-03,\n",
       "        4.05325145e-02,  5.67530689e-04,  1.03435954e-02,  8.89484435e-02,\n",
       "       -8.93704128e-03, -6.23020828e-02,  2.01754216e-02, -1.27847260e-02,\n",
       "        1.61151905e-02, -1.23150926e-02,  2.49236468e-02,  2.02202108e-02,\n",
       "       -2.01466475e-02,  4.14759815e-02, -2.72540431e-02, -3.96626107e-02,\n",
       "       -2.26231739e-02,  1.40826858e-03,  1.52835473e-02, -6.26358688e-02,\n",
       "        6.85891733e-02,  2.12807227e-02, -4.11787517e-02,  7.12969527e-02,\n",
       "       -2.85411607e-02, -1.06836697e-02, -1.89546235e-02,  1.78563893e-02,\n",
       "       -3.75272147e-02,  6.14895136e-04,  4.38691229e-02,  1.56059749e-02,\n",
       "        3.15993186e-03,  5.58516057e-03, -5.97155700e-03,  2.85605509e-02,\n",
       "       -9.22784209e-03,  9.27610788e-03,  2.80325003e-02,  6.93221092e-02,\n",
       "       -3.44454832e-02, -2.25160420e-02,  2.57091857e-02, -4.39213619e-33,\n",
       "       -3.64305265e-02, -2.59270379e-03,  9.11505055e-03,  3.95197570e-02,\n",
       "        1.37440190e-02,  3.83447157e-03,  2.09222105e-03, -6.76695490e-03,\n",
       "        1.25046028e-02, -1.33823445e-02, -1.84265897e-03,  1.20098162e-02,\n",
       "        1.55763682e-02,  7.08809181e-04,  7.13026896e-02, -5.37559018e-02,\n",
       "        2.44811587e-02, -4.40049805e-02, -1.36816353e-02, -1.33414501e-02,\n",
       "       -2.93122958e-02, -1.21151572e-02,  6.02591448e-02,  1.02625713e-02,\n",
       "        3.59790325e-02, -3.84313613e-02,  2.23757271e-02,  1.09116323e-02,\n",
       "        6.93022087e-02,  1.61974672e-02, -3.05023864e-02,  4.06713746e-02,\n",
       "       -3.92037481e-02, -3.48172151e-02,  4.40173149e-02,  2.78183259e-02,\n",
       "       -5.45111718e-03, -2.34862864e-02,  9.80813522e-03,  2.96252798e-02,\n",
       "        4.15044762e-02, -8.76813680e-02, -8.35824162e-02, -2.17031874e-02,\n",
       "       -3.72131579e-02, -8.14554188e-03, -1.64230857e-02, -3.21032293e-03,\n",
       "        7.74314068e-03, -4.88729775e-02, -3.05722072e-03, -2.07577627e-02,\n",
       "        1.43916486e-02, -2.15989184e-02,  5.19237407e-02,  3.22398208e-02,\n",
       "        2.97001526e-02,  6.64230138e-02,  3.49241756e-02,  6.32981434e-02,\n",
       "        2.76506450e-02, -6.43676296e-02, -1.97427012e-02, -6.66220337e-02,\n",
       "       -2.80176252e-02, -2.66223419e-02, -1.15307700e-02, -2.93886848e-03,\n",
       "        2.88166571e-02, -3.48906741e-02,  1.28499279e-02,  2.38518473e-02,\n",
       "       -2.04858929e-02,  3.24630253e-02,  2.07587071e-02,  3.60320769e-02,\n",
       "        1.18891830e-02,  2.08262764e-02,  5.34499697e-02,  3.98998037e-02,\n",
       "        1.93193241e-03,  4.08157147e-02,  1.73660368e-02,  1.62020475e-02,\n",
       "       -3.99374291e-02, -5.42060472e-02, -9.92145576e-03, -2.20064446e-02,\n",
       "        2.27758456e-02, -3.69537040e-03, -5.12674935e-02, -3.43792289e-02,\n",
       "        2.70803049e-02,  6.55440753e-03, -8.59292075e-02, -6.78599775e-02,\n",
       "       -6.93690591e-03,  1.56281330e-02, -6.14048727e-03,  1.97633747e-02,\n",
       "       -2.56496258e-02, -8.55881255e-03, -6.69192011e-03, -1.37871513e-02,\n",
       "       -1.60989594e-02, -6.38107769e-03,  4.70548980e-02, -3.73780914e-03,\n",
       "       -2.61347685e-02,  9.47311928e-04,  5.62972715e-03, -4.70339209e-02,\n",
       "       -2.40904167e-02, -1.03060141e-01,  3.95706519e-02,  1.86298154e-02,\n",
       "        1.22608049e-02, -2.66108513e-02,  8.73115472e-03, -1.45035433e-02,\n",
       "       -2.18205918e-02, -5.02304547e-02, -1.87203772e-02, -1.50403120e-02,\n",
       "       -3.63759813e-03,  1.26317982e-02,  3.22695076e-02,  2.52542086e-02,\n",
       "       -2.95263398e-02, -1.22712916e-02, -1.14217727e-02, -9.44962353e-03,\n",
       "        1.85265634e-07, -3.20790410e-02,  2.90721841e-02,  1.50097609e-02,\n",
       "        4.58586290e-02, -4.58980501e-02,  8.51313546e-02,  1.87606197e-02,\n",
       "       -7.52922194e-03, -9.47741233e-03,  2.20605358e-02, -1.64592080e-02,\n",
       "        1.37806255e-02, -5.93536068e-03,  1.98825672e-02, -1.72281489e-02,\n",
       "       -5.15167527e-02,  7.51993880e-02, -2.18111537e-02,  1.31128536e-05,\n",
       "       -4.08613570e-02, -2.18479130e-02,  7.75562301e-02,  6.59543797e-02,\n",
       "        3.45364399e-02,  6.32864935e-03, -3.45287435e-02,  2.41718348e-02,\n",
       "       -5.22142313e-02, -4.00038669e-03, -4.70077172e-02, -7.21944962e-03,\n",
       "       -6.05984852e-02, -4.96257655e-03, -1.06797228e-02,  3.90087478e-02,\n",
       "       -4.15892852e-03,  5.15687391e-02,  1.44929225e-02,  8.72995518e-03,\n",
       "        5.83562106e-02, -4.20900062e-02, -3.73952999e-03, -4.08154540e-02,\n",
       "       -3.81656401e-02,  2.13402929e-03,  3.52091645e-03, -6.06537098e-03,\n",
       "       -2.75366846e-02, -1.17570134e-02, -2.33174721e-03,  2.78418921e-02,\n",
       "       -2.67388858e-02,  2.94055380e-02, -3.15133780e-02, -4.89008240e-03,\n",
       "       -3.41910846e-03,  4.42338139e-02,  1.56635437e-02,  1.01597477e-02,\n",
       "       -8.11970308e-02, -8.73857334e-06,  4.35416847e-02, -3.40957940e-03,\n",
       "        1.32463634e-01, -5.27367964e-02,  4.36557457e-02,  3.99109721e-02,\n",
       "        6.80547977e-35,  2.35433728e-02, -4.56788689e-02, -3.64246890e-02,\n",
       "        3.97049822e-02, -2.14084592e-02, -1.54700805e-03,  9.18158069e-02,\n",
       "       -7.23871868e-03,  7.68456655e-03,  2.62084734e-02, -2.25905725e-03],\n",
       "      dtype=float32)"
      ]
     },
     "execution_count": 11,
     "metadata": {},
     "output_type": "execute_result"
    }
   ],
   "source": [
    "vec"
   ]
  },
  {
   "cell_type": "code",
   "execution_count": 12,
   "id": "686cee31",
   "metadata": {},
   "outputs": [
    {
     "data": {
      "text/plain": [
       "(1, 768)"
      ]
     },
     "execution_count": 12,
     "metadata": {},
     "output_type": "execute_result"
    }
   ],
   "source": [
    "# vector expects 2dimension\n",
    "import numpy as np\n",
    "svec = np.array(vec).reshape(1,-1)\n",
    "svec.shape"
   ]
  },
  {
   "cell_type": "code",
   "execution_count": 16,
   "id": "671a9920",
   "metadata": {},
   "outputs": [
    {
     "data": {
      "text/plain": [
       "array([[3, 2]], dtype=int64)"
      ]
     },
     "execution_count": 16,
     "metadata": {},
     "output_type": "execute_result"
    }
   ],
   "source": [
    "distances, I = index.search(svec, k=2)\n",
    "I"
   ]
  },
  {
   "cell_type": "code",
   "execution_count": null,
   "id": "5c72d8b0",
   "metadata": {},
   "outputs": [
    {
     "data": {
      "text/html": [
       "<div>\n",
       "<style scoped>\n",
       "    .dataframe tbody tr th:only-of-type {\n",
       "        vertical-align: middle;\n",
       "    }\n",
       "\n",
       "    .dataframe tbody tr th {\n",
       "        vertical-align: top;\n",
       "    }\n",
       "\n",
       "    .dataframe thead th {\n",
       "        text-align: right;\n",
       "    }\n",
       "</style>\n",
       "<table border=\"1\" class=\"dataframe\">\n",
       "  <thead>\n",
       "    <tr style=\"text-align: right;\">\n",
       "      <th></th>\n",
       "      <th>text</th>\n",
       "      <th>category</th>\n",
       "    </tr>\n",
       "  </thead>\n",
       "  <tbody>\n",
       "    <tr>\n",
       "      <th>3</th>\n",
       "      <td>Vibrant color jeans for male are becoming a trend</td>\n",
       "      <td>Fashion</td>\n",
       "    </tr>\n",
       "    <tr>\n",
       "      <th>2</th>\n",
       "      <td>These are the latest fashion trends for this week</td>\n",
       "      <td>Fashion</td>\n",
       "    </tr>\n",
       "  </tbody>\n",
       "</table>\n",
       "</div>"
      ],
      "text/plain": [
       "                                                text category\n",
       "3  Vibrant color jeans for male are becoming a trend  Fashion\n",
       "2  These are the latest fashion trends for this week  Fashion"
      ]
     },
     "execution_count": 18,
     "metadata": {},
     "output_type": "execute_result"
    }
   ],
   "source": [
    "# These two are the rows similar to the search query\n",
    "df.loc[I[0]]"
   ]
  },
  {
   "cell_type": "code",
   "execution_count": null,
   "id": "7a29f5dc",
   "metadata": {},
   "outputs": [
    {
     "data": {
      "text/plain": [
       "'I want to buy a polo t-shirt'"
      ]
     },
     "execution_count": 19,
     "metadata": {},
     "output_type": "execute_result"
    }
   ],
   "source": [
    "# This is a semantic search using the meaning not a exact keyword search\n",
    "search_query"
   ]
  }
 ],
 "metadata": {
  "kernelspec": {
   "display_name": "Python 3",
   "language": "python",
   "name": "python3"
  },
  "language_info": {
   "codemirror_mode": {
    "name": "ipython",
    "version": 3
   },
   "file_extension": ".py",
   "mimetype": "text/x-python",
   "name": "python",
   "nbconvert_exporter": "python",
   "pygments_lexer": "ipython3",
   "version": "3.12.5"
  }
 },
 "nbformat": 4,
 "nbformat_minor": 5
}
