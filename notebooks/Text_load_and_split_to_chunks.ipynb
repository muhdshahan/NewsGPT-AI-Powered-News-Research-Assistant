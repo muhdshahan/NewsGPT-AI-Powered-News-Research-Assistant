{
 "cells": [
  {
   "cell_type": "markdown",
   "id": "7a5d23b2",
   "metadata": {},
   "source": [
    "Lets do document loading"
   ]
  },
  {
   "cell_type": "code",
   "execution_count": 1,
   "id": "7759de1d",
   "metadata": {},
   "outputs": [
    {
     "name": "stdout",
     "output_type": "stream",
     "text": [
      "page_content='In Silicon Valley, what matters most is staying ahead of the competition. If you are Apple or Meta and find yourself short on talent or unable to build the technology in-house, the typical approach is to spend big. That usually means acquiring a successful company, bringing in the team behind the product, and either integrating it into your core offerings or giving the founders enough autonomy to continue innovating within your brand. Itâ€™s an approach many Silicon Valley companies have embracedâ€”some have made blockbuster acquisitions, while others have gotten burned.\n",
      "\n",
      "Last week, both Apple and Meta made headlines with news of their interest in acquiring Perplexity AI, a leading AI startup founded by Indian-origin computer scientist Arvind Srinivas. While major Silicon Valley players often work behind the scenes to quietly pursue companies they are interested in, this time two tech giants are eyeing Perplexityâ€”at the same time. The timing makes it even more interesting, especially in the case of Apple, which typically avoids bringing in outside talent and prefers to build competing technologies in-house.\n",
      "\n",
      "Bloomberg first reported that Meta approached Perplexity about a potential takeover before the company recently invested $14.3 billion in Scale AI. Unsurprisingly, the San Franciscoâ€“based AI startup was also on Appleâ€™s radar, according to another Bloomberg report. Itâ€™s not clear whether Perplexity is up for sale, whether Meta or Apple has held formal talks to acquire the company, or how close either might be to sealing a deal. We may not know until one of them makes an official announcement.' metadata={'source': 'AI News.txt'}\n"
     ]
    }
   ],
   "source": [
    "from langchain.document_loaders import TextLoader\n",
    "\n",
    "loader = TextLoader('AI News.txt')\n",
    "data = loader.load()\n",
    "print(data[0])"
   ]
  },
  {
   "cell_type": "code",
   "execution_count": 2,
   "id": "376337a8",
   "metadata": {},
   "outputs": [
    {
     "data": {
      "text/plain": [
       "7032"
      ]
     },
     "execution_count": 2,
     "metadata": {},
     "output_type": "execute_result"
    }
   ],
   "source": [
    "from langchain.document_loaders.csv_loader import CSVLoader\n",
    "# This is a csv document loader\n",
    "loader = CSVLoader(\"Telco Customer Churn.csv\")\n",
    "data = loader.load()\n",
    "len(data)"
   ]
  },
  {
   "cell_type": "code",
   "execution_count": 3,
   "id": "7f5bb90d",
   "metadata": {},
   "outputs": [
    {
     "data": {
      "text/plain": [
       "'_c0: 0\\ncustomerID: 7590-VHVEG\\ngender: Female\\nSeniorCitizen: 0\\nDependents: No\\ntenure: 1\\nPhoneService: No\\nMultipleLines: No\\nInternetService: DSL\\nOnlineSecurity: No\\nStreamingTV: No\\nContract: Month-to-month\\nMonthlyCharges: 29.85\\nTotalCharges: 29.85\\nChurn: No'"
      ]
     },
     "execution_count": 3,
     "metadata": {},
     "output_type": "execute_result"
    }
   ],
   "source": [
    "data[0].page_content"
   ]
  },
  {
   "cell_type": "code",
   "execution_count": 4,
   "id": "be28d0eb",
   "metadata": {},
   "outputs": [
    {
     "data": {
      "text/plain": [
       "{'source': 'Telco Customer Churn.csv', 'row': 0}"
      ]
     },
     "execution_count": 4,
     "metadata": {},
     "output_type": "execute_result"
    }
   ],
   "source": [
    "data[0].metadata"
   ]
  },
  {
   "cell_type": "code",
   "execution_count": 7,
   "id": "0d0b70a7",
   "metadata": {},
   "outputs": [
    {
     "name": "stdout",
     "output_type": "stream",
     "text": [
      "2\n"
     ]
    },
    {
     "data": {
      "text/plain": [
       "{'source': 'https://www.reuters.com/world/india/gold-subdued-dollar-gains-markets-await-iran-response-2025-06-23/'}"
      ]
     },
     "execution_count": 7,
     "metadata": {},
     "output_type": "execute_result"
    }
   ],
   "source": [
    "from langchain.document_loaders import UnstructuredURLLoader\n",
    "# Go to specified website with URL and look to its DOM object the HTML structure and pulls all the information\n",
    "loader = UnstructuredURLLoader(urls=[\n",
    "    \"https://www.reuters.com/world/india/gold-subdued-dollar-gains-markets-await-iran-response-2025-06-23/\",\n",
    "    \"https://www.jll.com/en-in/insights/land-transactions-in-india\"\n",
    "])\n",
    "\n",
    "data = loader.load()\n",
    "print(len(data))\n",
    "data[0].metadata"
   ]
  },
  {
   "cell_type": "markdown",
   "id": "531f594f",
   "metadata": {},
   "source": [
    "Text Splitting"
   ]
  },
  {
   "cell_type": "code",
   "execution_count": 10,
   "id": "1fb53b19",
   "metadata": {},
   "outputs": [],
   "source": [
    "# random text \n",
    "text = \"\"\"In Silicon Valley, what matters most is staying ahead of the competition. \n",
    "If you are Apple or Meta and find yourself short on talent or unable to build the technology in-house, the typical approach is to spend big. \n",
    "That usually means acquiring a successful company, bringing in the team behind the product, and either integrating it into your core offerings or giving the founders enough autonomy to continue innovating within your brand.\n",
    "It’s an approach many Silicon Valley companies have embraced—some have made blockbuster acquisitions, while others have gotten burned.\n",
    "\n",
    "Last week, both Apple and Meta made headlines with news of their interest in acquiring Perplexity AI, a leading AI startup founded by Indian-origin computer scientist Arvind Srinivas. \n",
    "While major Silicon Valley players often work behind the scenes to quietly pursue companies they are interested in, this time two tech giants are eyeing Perplexity—at the same time. \n",
    "The timing makes it even more interesting, especially in the case of Apple, which typically avoids bringing in outside talent and prefers to build competing technologies in-house.\n",
    "\n",
    "Bloomberg first reported that Meta approached Perplexity about a potential takeover before the company recently invested $14.3 billion in Scale AI. \n",
    "Unsurprisingly, the San Francisco–based AI startup was also on Apple’s radar, according to another Bloomberg report. \n",
    "It’s not clear whether Perplexity is up for sale, whether Meta or Apple has held formal talks to acquire the company, or how close either might be to sealing a deal. \n",
    "We may not know until one of them makes an official announcement.\"\"\""
   ]
  },
  {
   "cell_type": "code",
   "execution_count": 11,
   "id": "ac7da51c",
   "metadata": {},
   "outputs": [
    {
     "name": "stderr",
     "output_type": "stream",
     "text": [
      "Created a chunk of size 223, which is longer than the specified 200\n"
     ]
    },
    {
     "data": {
      "text/plain": [
       "11"
      ]
     },
     "execution_count": 11,
     "metadata": {},
     "output_type": "execute_result"
    }
   ],
   "source": [
    "from langchain.text_splitter import CharacterTextSplitter\n",
    "\n",
    "splitter = CharacterTextSplitter(\n",
    "    separator=\"\\n\",\n",
    "    chunk_size=200,\n",
    "    chunk_overlap=0\n",
    ")\n",
    "\n",
    "chunks = splitter.split_text(text)\n",
    "len(chunks)"
   ]
  },
  {
   "cell_type": "code",
   "execution_count": 12,
   "id": "c535074a",
   "metadata": {},
   "outputs": [
    {
     "data": {
      "text/plain": [
       "['In Silicon Valley, what matters most is staying ahead of the competition.',\n",
       " 'If you are Apple or Meta and find yourself short on talent or unable to build the technology in-house, the typical approach is to spend big.',\n",
       " 'That usually means acquiring a successful company, bringing in the team behind the product, and either integrating it into your core offerings or giving the founders enough autonomy to continue innovating within your brand.',\n",
       " 'It’s an approach many Silicon Valley companies have embraced—some have made blockbuster acquisitions, while others have gotten burned.',\n",
       " 'Last week, both Apple and Meta made headlines with news of their interest in acquiring Perplexity AI, a leading AI startup founded by Indian-origin computer scientist Arvind Srinivas.',\n",
       " 'While major Silicon Valley players often work behind the scenes to quietly pursue companies they are interested in, this time two tech giants are eyeing Perplexity—at the same time.',\n",
       " 'The timing makes it even more interesting, especially in the case of Apple, which typically avoids bringing in outside talent and prefers to build competing technologies in-house.',\n",
       " 'Bloomberg first reported that Meta approached Perplexity about a potential takeover before the company recently invested $14.3 billion in Scale AI.',\n",
       " 'Unsurprisingly, the San Francisco–based AI startup was also on Apple’s radar, according to another Bloomberg report.',\n",
       " 'It’s not clear whether Perplexity is up for sale, whether Meta or Apple has held formal talks to acquire the company, or how close either might be to sealing a deal.',\n",
       " 'We may not know until one of them makes an official announcement.']"
      ]
     },
     "execution_count": 12,
     "metadata": {},
     "output_type": "execute_result"
    }
   ],
   "source": [
    "chunks"
   ]
  },
  {
   "cell_type": "code",
   "execution_count": 13,
   "id": "e449edea",
   "metadata": {},
   "outputs": [
    {
     "name": "stdout",
     "output_type": "stream",
     "text": [
      "73\n",
      "140\n",
      "223\n",
      "134\n",
      "183\n",
      "181\n",
      "179\n",
      "147\n",
      "116\n",
      "165\n",
      "65\n"
     ]
    }
   ],
   "source": [
    "for chunk in chunks:\n",
    "    print(len(chunk))"
   ]
  },
  {
   "cell_type": "code",
   "execution_count": 14,
   "id": "37ef9ae1",
   "metadata": {},
   "outputs": [
    {
     "data": {
      "text/plain": [
       "12"
      ]
     },
     "execution_count": 14,
     "metadata": {},
     "output_type": "execute_result"
    }
   ],
   "source": [
    "# Lets use recursive character text splitter so to split text with multiple separators\n",
    "from langchain.text_splitter import RecursiveCharacterTextSplitter\n",
    "\n",
    "r_splitter = RecursiveCharacterTextSplitter(\n",
    "    separators=['\\n\\n', '\\n', ' '],\n",
    "    chunk_size=200,\n",
    "    chunk_overlap=0\n",
    ")\n",
    "\n",
    "chunks = r_splitter.split_text(text)\n",
    "len(chunks)"
   ]
  },
  {
   "cell_type": "code",
   "execution_count": 15,
   "id": "177f4f95",
   "metadata": {},
   "outputs": [
    {
     "name": "stdout",
     "output_type": "stream",
     "text": [
      "73\n",
      "140\n",
      "193\n",
      "29\n",
      "134\n",
      "183\n",
      "181\n",
      "179\n",
      "147\n",
      "116\n",
      "165\n",
      "65\n"
     ]
    }
   ],
   "source": [
    "for chunk in chunks:\n",
    "    print(len(chunk))"
   ]
  },
  {
   "cell_type": "code",
   "execution_count": null,
   "id": "74667bcd",
   "metadata": {},
   "outputs": [
    {
     "data": {
      "text/plain": [
       "['In Silicon Valley, what matters most is staying ahead of the competition.',\n",
       " 'If you are Apple or Meta and find yourself short on talent or unable to build the technology in-house, the typical approach is to spend big.',\n",
       " 'That usually means acquiring a successful company, bringing in the team behind the product, and either integrating it into your core offerings or giving the founders enough autonomy to continue',\n",
       " 'innovating within your brand.',\n",
       " 'It’s an approach many Silicon Valley companies have embraced—some have made blockbuster acquisitions, while others have gotten burned.',\n",
       " 'Last week, both Apple and Meta made headlines with news of their interest in acquiring Perplexity AI, a leading AI startup founded by Indian-origin computer scientist Arvind Srinivas.',\n",
       " 'While major Silicon Valley players often work behind the scenes to quietly pursue companies they are interested in, this time two tech giants are eyeing Perplexity—at the same time.',\n",
       " 'The timing makes it even more interesting, especially in the case of Apple, which typically avoids bringing in outside talent and prefers to build competing technologies in-house.',\n",
       " 'Bloomberg first reported that Meta approached Perplexity about a potential takeover before the company recently invested $14.3 billion in Scale AI.',\n",
       " 'Unsurprisingly, the San Francisco–based AI startup was also on Apple’s radar, according to another Bloomberg report.',\n",
       " 'It’s not clear whether Perplexity is up for sale, whether Meta or Apple has held formal talks to acquire the company, or how close either might be to sealing a deal.',\n",
       " 'We may not know until one of them makes an official announcement.']"
      ]
     },
     "execution_count": 16,
     "metadata": {},
     "output_type": "execute_result"
    }
   ],
   "source": [
    "# here after splitting with '\\n' still there was a line with limit above 200 so then\n",
    "# again did a split using the space ' ' separator so it splitted\n",
    "# (but had an issue when using space separator, all the words gets splitted as there is space between them so to overcome this it automatically merges small chunks together without exceeding the limit)\n",
    "chunks"
   ]
  },
  {
   "cell_type": "code",
   "execution_count": null,
   "id": "951d9c05",
   "metadata": {},
   "outputs": [
    {
     "data": {
      "text/plain": [
       "['While',\n",
       " 'major',\n",
       " 'Silicon',\n",
       " 'Valley',\n",
       " 'players',\n",
       " 'often',\n",
       " 'work',\n",
       " 'behind',\n",
       " 'the',\n",
       " 'scenes',\n",
       " 'to',\n",
       " 'quietly',\n",
       " 'pursue',\n",
       " 'companies',\n",
       " 'they',\n",
       " 'are',\n",
       " 'interested',\n",
       " 'in,',\n",
       " 'this',\n",
       " 'time',\n",
       " 'two',\n",
       " 'tech',\n",
       " 'giants',\n",
       " 'are',\n",
       " 'eyeing',\n",
       " 'Perplexity—at',\n",
       " 'the',\n",
       " 'same',\n",
       " 'time.',\n",
       " '\\nThe',\n",
       " 'timing',\n",
       " 'makes',\n",
       " 'it',\n",
       " 'even',\n",
       " 'more',\n",
       " 'interesting,',\n",
       " 'especially',\n",
       " 'in',\n",
       " 'the',\n",
       " 'case',\n",
       " 'of',\n",
       " 'Apple,',\n",
       " 'which',\n",
       " 'typically',\n",
       " 'avoids',\n",
       " 'bringing',\n",
       " 'in',\n",
       " 'outside',\n",
       " 'talent',\n",
       " 'and',\n",
       " 'prefers',\n",
       " 'to',\n",
       " 'build',\n",
       " 'competing',\n",
       " 'technologies',\n",
       " 'in-house.\\n\\nBloomberg',\n",
       " 'first',\n",
       " 'reported',\n",
       " 'that',\n",
       " 'Meta',\n",
       " 'approached',\n",
       " 'Perplexity',\n",
       " 'about',\n",
       " 'a',\n",
       " 'potential',\n",
       " 'takeover',\n",
       " 'before',\n",
       " 'the',\n",
       " 'company',\n",
       " 'recently',\n",
       " 'invested',\n",
       " '$14.3',\n",
       " 'billion',\n",
       " 'in',\n",
       " 'Scale',\n",
       " 'AI.',\n",
       " '']"
      ]
     },
     "execution_count": 18,
     "metadata": {},
     "output_type": "execute_result"
    }
   ],
   "source": [
    "# Separation using space and \"\\n\\n\" looks like\n",
    "\"\"\"While major Silicon Valley players often work behind the scenes to quietly pursue companies they are interested in, this time two tech giants are eyeing Perplexity—at the same time. \n",
    "The timing makes it even more interesting, especially in the case of Apple, which typically avoids bringing in outside talent and prefers to build competing technologies in-house.\n",
    "\n",
    "Bloomberg first reported that Meta approached Perplexity about a potential takeover before the company recently invested $14.3 billion in Scale AI. \"\"\".split(\" \")"
   ]
  },
  {
   "cell_type": "code",
   "execution_count": 20,
   "id": "586ddda2",
   "metadata": {},
   "outputs": [
    {
     "data": {
      "text/plain": [
       "['While major Silicon Valley players often work behind the scenes to quietly pursue companies they are interested in, this time two tech giants are eyeing Perplexity—at the same time. \\nThe timing makes it even more interesting, especially in the case of Apple, which typically avoids bringing in outside talent and prefers to build competing technologies in-house.',\n",
       " 'Bloomberg first reported that Meta approached Perplexity about a potential takeover before the company recently invested $14.3 billion in Scale AI. ']"
      ]
     },
     "execution_count": 20,
     "metadata": {},
     "output_type": "execute_result"
    }
   ],
   "source": [
    "\"\"\"While major Silicon Valley players often work behind the scenes to quietly pursue companies they are interested in, this time two tech giants are eyeing Perplexity—at the same time. \n",
    "The timing makes it even more interesting, especially in the case of Apple, which typically avoids bringing in outside talent and prefers to build competing technologies in-house.\n",
    "\n",
    "Bloomberg first reported that Meta approached Perplexity about a potential takeover before the company recently invested $14.3 billion in Scale AI. \"\"\".split(\"\\n\\n\")"
   ]
  }
 ],
 "metadata": {
  "kernelspec": {
   "display_name": "Python 3",
   "language": "python",
   "name": "python3"
  },
  "language_info": {
   "codemirror_mode": {
    "name": "ipython",
    "version": 3
   },
   "file_extension": ".py",
   "mimetype": "text/x-python",
   "name": "python",
   "nbconvert_exporter": "python",
   "pygments_lexer": "ipython3",
   "version": "3.10.0"
  }
 },
 "nbformat": 4,
 "nbformat_minor": 5
}
